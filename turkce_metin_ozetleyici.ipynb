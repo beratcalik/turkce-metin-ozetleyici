{
 "cells": [
  {
   "cell_type": "code",
   "execution_count": 2,
   "id": "14ac8875-cbbd-4b7a-8775-e9fdd4150d34",
   "metadata": {},
   "outputs": [
    {
     "name": "stderr",
     "output_type": "stream",
     "text": [
      "The tokenizer class you load from this checkpoint is not the same type as the class this function is called from. It may result in unexpected tokenization. \n",
      "The tokenizer class you load from this checkpoint is 'T5Tokenizer'. \n",
      "The class this function is called from is 'MT5Tokenizer'.\n"
     ]
    },
    {
     "name": "stdout",
     "output_type": "stream",
     "text": [
      "🔍 Özetlenmesini istediğiniz Türkçe metni giriniz:\n"
     ]
    },
    {
     "name": "stdin",
     "output_type": "stream",
     "text": [
      "📥 Metin:  Yapay zeka, günümüzde birçok sektörde devrim yaratmaktadır. Sağlık alanında teşhis süreçlerini hızlandırmakta, finans sektöründe ise dolandırıcılıkları önlemeye yardımcı olmaktadır. Eğitimde kişiselleştirilmiş öğrenme deneyimleri sunarken, üretim sektöründe robotlar sayesinde verimliliği artırmaktadır. Ancak yapay zekanın hızlı gelişimi, etik sorunları ve iş gücü üzerindeki etkileriyle de tartışma yaratmaktadır.\n"
     ]
    },
    {
     "name": "stdout",
     "output_type": "stream",
     "text": [
      "\n",
      "📌 Özet:\n",
      " Yapay zeka, dünyanın birçok sektöründe devrim yarattı. Peki yapay zekanın gelişimi ne kadar etkili?\n"
     ]
    }
   ],
   "source": [
    "#Gerekli Kütüphanelerin İmportu\n",
    "from transformers import MT5Tokenizer, MT5ForConditionalGeneration\n",
    "import torch\n",
    "\n",
    "#Özetleme için uygun dil modeli\n",
    "model_name = \"csebuetnlp/mT5_multilingual_XLSum\"\n",
    "\n",
    "#Modele uygun tokenizer yüklemesi\n",
    "tokenizer = MT5Tokenizer.from_pretrained(model_name)\n",
    "model = MT5ForConditionalGeneration.from_pretrained(model_name)\n",
    "\n",
    "# Kullanıcıdan metin al\n",
    "print(\"🔍 Özetlenmesini istediğiniz Türkçe metni giriniz:\")\n",
    "metin = input(\"📥 Metin: \")\n",
    "\n",
    "# Eğer kullanıcı boş geçerse uyarı ver\n",
    "if not metin.strip():\n",
    "    print(\"⚠️ Metin boş olamaz. Lütfen geçerli bir metin giriniz.\")\n",
    "    exit()\n",
    "\n",
    "# Tokenize et\n",
    "inputs = tokenizer(metin, return_tensors=\"pt\", max_length=512, truncation=True)\n",
    "\n",
    "# Özet üretmek için gerekli parametreler\n",
    "summary_ids = model.generate(\n",
    "    inputs[\"input_ids\"],\n",
    "    max_length=60,\n",
    "    min_length=20,\n",
    "    length_penalty=2.0,\n",
    "    num_beams=4,\n",
    "    early_stopping=True\n",
    ")\n",
    "\n",
    "# Özet sonucu\n",
    "ozet = tokenizer.decode(summary_ids[0], skip_special_tokens=True)\n",
    "\n",
    "print(\"\\n📌 Özet:\\n\", ozet)\n"
   ]
  },
  {
   "cell_type": "code",
   "execution_count": null,
   "id": "b0dc8a75-2fc1-43b1-a79e-9b2aeccd0211",
   "metadata": {},
   "outputs": [],
   "source": []
  }
 ],
 "metadata": {
  "kernelspec": {
   "display_name": "Python 3 (ipykernel)",
   "language": "python",
   "name": "python3"
  },
  "language_info": {
   "codemirror_mode": {
    "name": "ipython",
    "version": 3
   },
   "file_extension": ".py",
   "mimetype": "text/x-python",
   "name": "python",
   "nbconvert_exporter": "python",
   "pygments_lexer": "ipython3",
   "version": "3.13.5"
  }
 },
 "nbformat": 4,
 "nbformat_minor": 5
}
